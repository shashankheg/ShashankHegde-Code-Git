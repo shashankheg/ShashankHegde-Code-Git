{
 "cells": [
  {
   "cell_type": "code",
   "execution_count": 3,
   "id": "28cb5915",
   "metadata": {},
   "outputs": [
    {
     "name": "stdout",
     "output_type": "stream",
     "text": [
      "Sorted List: [1, 2, 3, 4, 5, 6, 7, 9]\n"
     ]
    }
   ],
   "source": [
    "#Selection sort iterates all the elements and if the smallest element in the list is found then that number\n",
    "#is swapped with the first\n",
    "\n",
    "#Best O(n^2); Average O(n^2); Worst O(n^2)\n",
    "\n",
    "def selectionSort(List):\n",
    "    for i in range(len(List) - 1): #For iterating n - 1 times\n",
    "        minimum = i\n",
    "        for j in range( i + 1, len(List)): # Compare i and i + 1 element\n",
    "            if(List[j] < List[minimum]):\n",
    "                minimum = j\n",
    "        if(minimum != i):\n",
    "            List[i], List[minimum] = List[minimum], List[i]\n",
    "    return List\n",
    "\n",
    "if __name__ == '__main__':\n",
    "    List = [3, 4, 2, 6, 5, 7, 1, 9]\n",
    "    print('Sorted List:',selectionSort(List))"
   ]
  }
 ],
 "metadata": {
  "kernelspec": {
   "display_name": "Python 3 (ipykernel)",
   "language": "python",
   "name": "python3"
  },
  "language_info": {
   "codemirror_mode": {
    "name": "ipython",
    "version": 3
   },
   "file_extension": ".py",
   "mimetype": "text/x-python",
   "name": "python",
   "nbconvert_exporter": "python",
   "pygments_lexer": "ipython3",
   "version": "3.9.13"
  }
 },
 "nbformat": 4,
 "nbformat_minor": 5
}
