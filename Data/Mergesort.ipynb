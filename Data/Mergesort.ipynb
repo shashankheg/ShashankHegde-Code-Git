{
 "cells": [
  {
   "cell_type": "code",
   "execution_count": 1,
   "id": "ecb37f53",
   "metadata": {},
   "outputs": [
    {
     "name": "stdout",
     "output_type": "stream",
     "text": [
      "Sorted List: [1, 2, 3, 4, 5, 6, 7, 9]\n"
     ]
    }
   ],
   "source": [
    "'''The MergeSort function repeatedly divides the array into two halves until we reach a stage where we try to perform MergeSort on a subarray of size 1 i.e. p == r.\n",
    "\n",
    "After that, the merge function comes into play and combines the sorted arrays into larger arrays until the whole array is merged.'''\n",
    "\n",
    "#  Best = Average = Worst = O(nlog(n))\n",
    "\n",
    "def merge(First,Second):\n",
    "    \"\"\" Function to merge two arrays \"\"\"\n",
    "    Merged = []\n",
    "    while len(First) != 0 and len(Second) != 0:\n",
    "        if First[0] < Second[0]:\n",
    "            Merged.append(First[0])\n",
    "            First.remove(First[0])\n",
    "        else:\n",
    "            Merged.append(Second[0])\n",
    "            Second.remove(Second[0])\n",
    "    if len(First) == 0:\n",
    "        Merged += Second\n",
    "    else:\n",
    "        Merged += First\n",
    "    return Merged\n",
    "\n",
    "# Code for merge sort\n",
    "\n",
    "def mergeSort(x):\n",
    "    \"\"\" Function to sort an array using merge sort algorithm \"\"\"\n",
    "    if len(x) == 0 or len(x) == 1:\n",
    "        return x\n",
    "    else:\n",
    "        middle = len(x)//2\n",
    "        First = mergeSort(x[:middle])\n",
    "        Second = mergeSort(x[middle:])\n",
    "        return merge(First,Second)\n",
    "\n",
    "if __name__ == '__main__':\n",
    "    List = [3, 4, 2, 6, 5, 7, 1, 9]\n",
    "    print('Sorted List:',mergeSort(List))"
   ]
  }
 ],
 "metadata": {
  "kernelspec": {
   "display_name": "Python 3 (ipykernel)",
   "language": "python",
   "name": "python3"
  },
  "language_info": {
   "codemirror_mode": {
    "name": "ipython",
    "version": 3
   },
   "file_extension": ".py",
   "mimetype": "text/x-python",
   "name": "python",
   "nbconvert_exporter": "python",
   "pygments_lexer": "ipython3",
   "version": "3.9.13"
  }
 },
 "nbformat": 4,
 "nbformat_minor": 5
}
