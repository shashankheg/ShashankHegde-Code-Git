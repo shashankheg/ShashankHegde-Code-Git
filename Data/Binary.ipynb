{
 "cells": [
  {
   "cell_type": "code",
   "execution_count": 31,
   "id": "3aa6cddd",
   "metadata": {},
   "outputs": [
    {
     "name": "stdout",
     "output_type": "stream",
     "text": [
      "Target found at index position: 6 in 1 iterations\n"
     ]
    }
   ],
   "source": [
    "# Python program for Binary search\n",
    "\n",
    "#Time complexity : O(log n)\n",
    "\n",
    "#Space complexity O(1)\n",
    "\n",
    "\n",
    "import numpy as np\n",
    "import time\n",
    "\n",
    "\n",
    "\n",
    "def Binary_Search(target, List) :\n",
    "    '''target is the numeric which is searched in the list'''\\\n",
    "    '''List is array of numerics'''\n",
    "    List1 = List.sort()\n",
    "    Begin_ = 0\n",
    "    End_ = len(List)-1\n",
    "    Mid_ = 0\n",
    "    global iterations\n",
    "    iterations = 0\n",
    "    \n",
    "    \n",
    "    while(Begin_ <= End_):\n",
    "        iterations += 1\n",
    "        Mid_ = (Begin_ + End_)//2\n",
    "        if target == List[Mid_] :\n",
    "            return Mid_\n",
    "        elif target < List[Mid_]:\n",
    "            End_ = Mid_-1\n",
    "        else :\n",
    "            Begin_ = Mid_+1\n",
    "    return -1\n",
    "\n",
    "if __name__=='__main__':\n",
    "    target=7\n",
    "    List=[1, 2, 3, 4, 5, 6, 7, 8, 9, 11, 12, 13, 14]\n",
    "    Res=Binary_Search(target,List)\n",
    "    if (Res != -1):\n",
    "        print('Target found at index position:',Res,'in',iterations,'iterations')\n",
    "    else:\n",
    "        print('Target not found')\n"
   ]
  },
  {
   "cell_type": "code",
   "execution_count": null,
   "id": "44713bb3",
   "metadata": {},
   "outputs": [],
   "source": []
  }
 ],
 "metadata": {
  "kernelspec": {
   "display_name": "Python 3 (ipykernel)",
   "language": "python",
   "name": "python3"
  },
  "language_info": {
   "codemirror_mode": {
    "name": "ipython",
    "version": 3
   },
   "file_extension": ".py",
   "mimetype": "text/x-python",
   "name": "python",
   "nbconvert_exporter": "python",
   "pygments_lexer": "ipython3",
   "version": "3.9.13"
  }
 },
 "nbformat": 4,
 "nbformat_minor": 5
}
