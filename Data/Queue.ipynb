{
 "cells": [
  {
   "cell_type": "code",
   "execution_count": 5,
   "id": "38d432b5",
   "metadata": {},
   "outputs": [
    {
     "name": "stdout",
     "output_type": "stream",
     "text": [
      "3 2 1\n",
      "3 2\n"
     ]
    }
   ],
   "source": [
    "#The program demonstrates enqueue(), dequeue(), isFull(), isEmpty, peek() in Queue.\n",
    "\n",
    "class Queue_(object):\n",
    "    def __init__(self, size) :\n",
    "        self.size=size\n",
    "        self.queue=[]\n",
    "        \n",
    "    def __str__(self):\n",
    "        myString = ' '.join(str(i) for i in self.queue)\n",
    "        return myString\n",
    "    \n",
    "    def enqueue(self, item):\n",
    "        if(self.isFull() != True):\n",
    "            self.queue.insert(0,item)\n",
    "        else :\n",
    "            print('Queue is Full!')\n",
    "            \n",
    "    def dequeue(self):\n",
    "        if (self.isEmpty() != True):\n",
    "            self.queue.pop()\n",
    "         \n",
    "        else :\n",
    "              print('Queue is empty')\n",
    "    def isEmpty(self):\n",
    "        ''' This function checks if the queue is empty '''\n",
    "        return self.queue == []\n",
    "    \n",
    "    def isFull(self):\n",
    "        ''' This function checks if the queue is full '''\n",
    "        return len(self.queue) == self.size\n",
    "            \n",
    "    def peek(self):\n",
    "        ''' This function helps to see the first element at the fron end of the queue '''\n",
    "        if(self.isEmpty() != True):\n",
    "            return self.queue[-1]\n",
    "        else:\n",
    "            print('Queue is Empty!')\n",
    "            \n",
    "if __name__ == '__main__':\n",
    "    myQueue = Queue_(10)\n",
    "    myQueue.enqueue(1)\n",
    "    myQueue.enqueue(2)\n",
    "    myQueue.enqueue(3)\n",
    "    print(myQueue)\n",
    "    myQueue.dequeue()\n",
    "    print(myQueue)"
   ]
  }
 ],
 "metadata": {
  "kernelspec": {
   "display_name": "Python 3 (ipykernel)",
   "language": "python",
   "name": "python3"
  },
  "language_info": {
   "codemirror_mode": {
    "name": "ipython",
    "version": 3
   },
   "file_extension": ".py",
   "mimetype": "text/x-python",
   "name": "python",
   "nbconvert_exporter": "python",
   "pygments_lexer": "ipython3",
   "version": "3.9.13"
  }
 },
 "nbformat": 4,
 "nbformat_minor": 5
}
