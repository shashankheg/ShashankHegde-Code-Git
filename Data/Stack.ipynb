{
 "cells": [
  {
   "cell_type": "code",
   "execution_count": 3,
   "id": "d5f34c3c",
   "metadata": {},
   "outputs": [
    {
     "name": "stdout",
     "output_type": "stream",
     "text": [
      "False\n",
      "True\n",
      "0 1 2 3 4 5 6 7 8 9\n",
      "10\n",
      "9\n",
      "0 1 2 3 4 5 6 7 8\n",
      "8\n"
     ]
    }
   ],
   "source": [
    "#This program illustrates an example of Stack implementation\n",
    "#Stack Operations: push(), pop(), isEmpty(), peek(), stackSize()\n",
    "\n",
    "class Stack(object):\n",
    "    def __init__(self, size):\n",
    "        self.index = []\n",
    "        self.size = size\n",
    "\n",
    "    def __str__(self):\n",
    "        myString = ' '.join(str(i) for i in self.index)\n",
    "        return myString\n",
    "\n",
    "    def push(self, data):\n",
    "        ''' Pushes a element to top of the stack '''\n",
    "        if(self.isFull() != True):\n",
    "            self.index.append(data)\n",
    "        else:\n",
    "            print('Stack overflow')\n",
    "\n",
    "    def pop(self):\n",
    "        ''' Pops the top element '''\n",
    "        if(self.isEmpty() != True):\n",
    "            return self.index.pop()\n",
    "        else:\n",
    "            print('Stack is already empty!')\n",
    "\n",
    "    def isEmpty(self):\n",
    "        ''' Checks whether the stack is empty '''\n",
    "        return len(self.index) == []\n",
    "\n",
    "    def isFull(self):\n",
    "        ''' Checks whether the stack if full '''\n",
    "        return len(self.index) == self.size\n",
    "\n",
    "    def peek(self):\n",
    "        ''' Returns the top element of the stack '''\n",
    "        if(self.isEmpty() != True):\n",
    "            return self.index[-1]\n",
    "        else:\n",
    "            print('Stack is already empty!')\n",
    "\n",
    "    def stackSize(self):\n",
    "        ''' Returns the current stack size '''\n",
    "        return len(self.index)\n",
    "\n",
    "if __name__ == '__main__':\n",
    "    myStack = Stack(10)\n",
    "    for i in range(0, 10):\n",
    "        myStack.push(i)\n",
    "    print(myStack.isEmpty())        # False\n",
    "    print(myStack.isFull())         # True\n",
    "    print(myStack)                  # 0 1 2 3 4 5 6 7 8 9\n",
    "    print(myStack.stackSize())      # 10\n",
    "    print(myStack.pop())            # 9\n",
    "    print(myStack)                  # 0 1 2 3 4 5 6 7 8\n",
    "    print(myStack.peek())           # 8"
   ]
  }
 ],
 "metadata": {
  "kernelspec": {
   "display_name": "Python 3 (ipykernel)",
   "language": "python",
   "name": "python3"
  },
  "language_info": {
   "codemirror_mode": {
    "name": "ipython",
    "version": 3
   },
   "file_extension": ".py",
   "mimetype": "text/x-python",
   "name": "python",
   "nbconvert_exporter": "python",
   "pygments_lexer": "ipython3",
   "version": "3.9.13"
  }
 },
 "nbformat": 4,
 "nbformat_minor": 5
}
