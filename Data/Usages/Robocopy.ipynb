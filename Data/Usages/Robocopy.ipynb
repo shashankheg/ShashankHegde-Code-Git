{
 "cells": [
  {
   "cell_type": "code",
   "execution_count": 8,
   "id": "5bc6276f",
   "metadata": {},
   "outputs": [],
   "source": [
    "import json\n",
    "import re\n",
    "import time\n",
    "from json import JSONEncoder"
   ]
  },
  {
   "cell_type": "code",
   "execution_count": 7,
   "id": "31bcf272",
   "metadata": {},
   "outputs": [],
   "source": [
    "class Logmetrics:\n",
    "    def __init__(self) :\n",
    "        self.log_name='' \n",
    "        self.log_dir=''\n",
    "        self.directory={}\n",
    "        self.metrics=[]\n",
    "        self.error = False \n",
    "        self.error_message = ''\n",
    "        "
   ]
  },
  {
   "cell_type": "code",
   "execution_count": 6,
   "id": "d5cb88c1",
   "metadata": {},
   "outputs": [],
   "source": [
    "class MyEncoder(JSONEncoder):\n",
    "    def default(self, o):\n",
    "        return o.__dict__ "
   ]
  },
  {
   "cell_type": "code",
   "execution_count": 5,
   "id": "aafab153",
   "metadata": {},
   "outputs": [],
   "source": [
    "def RoboCopLogfile(logfilelist):\n",
    "    # Extract source and destination directory    \n",
    "    PATTERN_DIRECTORY_NAME = r'(?i)^\\s+(?P<type>Source|Dest)\\s+:\\s+(?P<dir>.+)'\n",
    "    \n",
    "    # Locate Errors\n",
    "    PATTERN_ERROR = r'(?i)^(?P<ts>\\d{4}(/\\d{2}){2}\\s+(\\d{2}:){2}\\d{2})\\s+error(?P<error>.+)'\n",
    "    \n",
    "    # Extract Metrics columns\n",
    "    PATTERN_METRICS = \\\n",
    "     r'(?i)^\\s+(?P<type>dirs|files|bytes)\\s+:\\s+'\\\n",
    "     r'(?P<total>\\d{1,})\\s+(?P<copied>\\d{1,})\\s+'\\\n",
    "     r'(?P<skipped>\\d{1,})\\s+(?P<mismatch>\\d{1,})\\s+'\\\n",
    "     r'(?P<failed>\\d{1,})\\s+(?P<extras>\\d{1,})'\n",
    "    \n",
    "    \n",
    "    for filename in logfilelist:\n",
    "        logmetrics=Logmetrics()\n",
    "        logmetrics.log_file_name = file_name\n",
    "        \n",
    "        \n",
    "        with open(file_name,'r', encoding='utf-8') as rdr:\n",
    "            for line in rdr:\n",
    "                match = re.search(PATTERN_ERROR, line)\n",
    "                \n",
    "                \n",
    "                if match:\n",
    "                    logmetrics.error=True\n",
    "                    logmetrics.error_message=line\n",
    "                    \n",
    "                    # metrics table - iterate using named groups\n",
    "                    for key,value in match.groupdict().items():\n",
    "                        if key == 'type':\n",
    "                            # Type is a string \"Dirs\",\"Files\",\"Bytes\"\n",
    "                            metricsRow[key] = value\n",
    "                        else:\n",
    "                            # Total, Copied, Skipped, Mismatch etc are integers\n",
    "                            metricsRow[key] = int(value)\n",
    "                    logmetrics.match.append(metricsRow)\n",
    "                    \n",
    "                    \n",
    "        with open(file_name+'.json','w', encoding='utf-8') as wr:\n",
    "                json.dump(logmetrics, wr, ensure_ascii=False, cls=MyEncoder, indent=True)            \n",
    "    "
   ]
  },
  {
   "cell_type": "code",
   "execution_count": null,
   "id": "b506b47e",
   "metadata": {},
   "outputs": [],
   "source": [
    "file_list = [\n",
    "        r\"..\\Data\\rocopylog_invalid_source.txt\",\n",
    "        r\"..\\Data\\Robocopy.txt\"]\n",
    "\n",
    "start_time = time.time()\n",
    "\n",
    "process_robocopy_log(file_list)\n",
    "\n",
    "end_time = time.time()\n",
    "\n",
    "print('Elapsed seconds: {0:.2f}s'.format(end_time-start_time))"
   ]
  }
 ],
 "metadata": {
  "kernelspec": {
   "display_name": "Python 3 (ipykernel)",
   "language": "python",
   "name": "python3"
  },
  "language_info": {
   "codemirror_mode": {
    "name": "ipython",
    "version": 3
   },
   "file_extension": ".py",
   "mimetype": "text/x-python",
   "name": "python",
   "nbconvert_exporter": "python",
   "pygments_lexer": "ipython3",
   "version": "3.9.12"
  }
 },
 "nbformat": 4,
 "nbformat_minor": 5
}
