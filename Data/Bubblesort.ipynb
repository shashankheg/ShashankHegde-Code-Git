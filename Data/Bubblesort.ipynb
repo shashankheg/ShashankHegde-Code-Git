{
 "cells": [
  {
   "cell_type": "code",
   "execution_count": 4,
   "id": "25c94905",
   "metadata": {},
   "outputs": [
    {
     "name": "stdout",
     "output_type": "stream",
     "text": [
      "Sorted List: [1, 2, 3, 4, 5, 6, 7, 9]\n"
     ]
    }
   ],
   "source": [
    "#   Best O(n^2); Average O(n^2); Worst O(n^2)\n",
    "\n",
    "def bubbleSort(List):\n",
    "    for i in range(len(List)):\n",
    "        for j in range(len(List) - 1, i, -1):\n",
    "            if List[j] < List[j - 1]:\n",
    "                List[j], List[j - 1] = List[j - 1], List[j]\n",
    "    return List\n",
    "\n",
    "if __name__ == '__main__':\n",
    "    List = [3, 4, 2, 6, 5, 7, 1, 9]\n",
    "    print('Sorted List:',bubbleSort(List))"
   ]
  }
 ],
 "metadata": {
  "kernelspec": {
   "display_name": "Python 3 (ipykernel)",
   "language": "python",
   "name": "python3"
  },
  "language_info": {
   "codemirror_mode": {
    "name": "ipython",
    "version": 3
   },
   "file_extension": ".py",
   "mimetype": "text/x-python",
   "name": "python",
   "nbconvert_exporter": "python",
   "pygments_lexer": "ipython3",
   "version": "3.9.13"
  }
 },
 "nbformat": 4,
 "nbformat_minor": 5
}
